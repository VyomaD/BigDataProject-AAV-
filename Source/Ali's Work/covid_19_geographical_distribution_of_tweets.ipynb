{
  "nbformat": 4,
  "nbformat_minor": 0,
  "metadata": {
    "kernelspec": {
      "display_name": "Python 3",
      "language": "python",
      "name": "python3"
    },
    "language_info": {
      "codemirror_mode": {
        "name": "ipython",
        "version": 3
      },
      "file_extension": ".py",
      "mimetype": "text/x-python",
      "name": "python",
      "nbconvert_exporter": "python",
      "pygments_lexer": "ipython3",
      "version": "3.7.6"
    },
    "papermill": {
      "duration": 8.675752,
      "end_time": "2020-08-12T14:26:11.480455",
      "environment_variables": {},
      "exception": null,
      "input_path": "__notebook__.ipynb",
      "output_path": "__notebook__.ipynb",
      "parameters": {},
      "start_time": "2020-08-12T14:26:02.804703",
      "version": "2.1.0"
    },
    "colab": {
      "name": "covid_19_geographical_distribution_of_tweets.ipynb",
      "provenance": []
    }
  },
  "cells": [
    {
      "cell_type": "code",
      "metadata": {
        "id": "-mhJEcQr0aJI",
        "colab": {
          "base_uri": "https://localhost:8080/"
        },
        "outputId": "9a6dfa44-8b70-47d7-b86c-a3098fa574d9"
      },
      "source": [
        "#connecting to Google Drive\n",
        "from google.colab import drive\n",
        "drive.mount('/content/drive')"
      ],
      "execution_count": 1,
      "outputs": [
        {
          "output_type": "stream",
          "text": [
            "Mounted at /content/drive\n"
          ],
          "name": "stdout"
        }
      ]
    },
    {
      "cell_type": "code",
      "metadata": {
        "_cell_guid": "79c7e3d0-c299-4dcb-8224-4455121ee9b0",
        "_uuid": "d629ff2d2480ee46fbb7e2d37f6b5fab8052498a",
        "execution": {
          "iopub.execute_input": "2020-08-12T14:26:08.209756Z",
          "iopub.status.busy": "2020-08-12T14:26:08.208919Z",
          "iopub.status.idle": "2020-08-12T14:26:08.212206Z",
          "shell.execute_reply": "2020-08-12T14:26:08.212821Z"
        },
        "papermill": {
          "duration": 0.024735,
          "end_time": "2020-08-12T14:26:08.213011",
          "exception": false,
          "start_time": "2020-08-12T14:26:08.188276",
          "status": "completed"
        },
        "tags": [],
        "id": "3PesQKBbD0FR"
      },
      "source": [
        "#importing required libraries\n",
        "import numpy as np\n",
        "import pandas as pd\n",
        "import matplotlib.pyplot as plt\n",
        "%matplotlib inline"
      ],
      "execution_count": 2,
      "outputs": []
    },
    {
      "cell_type": "code",
      "metadata": {
        "execution": {
          "iopub.execute_input": "2020-08-12T14:26:08.246231Z",
          "iopub.status.busy": "2020-08-12T14:26:08.245411Z",
          "iopub.status.idle": "2020-08-12T14:26:09.409060Z",
          "shell.execute_reply": "2020-08-12T14:26:09.408034Z"
        },
        "papermill": {
          "duration": 1.184059,
          "end_time": "2020-08-12T14:26:09.409264",
          "exception": false,
          "start_time": "2020-08-12T14:26:08.225205",
          "status": "completed"
        },
        "tags": [],
        "id": "3uq6eH9bD0FS"
      },
      "source": [
        "#reading csv fie of dataset\n",
        "df = pd.read_csv('/content/drive/MyDrive/covid19/covid19_tweets.csv')"
      ],
      "execution_count": 3,
      "outputs": []
    },
    {
      "cell_type": "code",
      "metadata": {
        "execution": {
          "iopub.execute_input": "2020-08-12T14:26:09.554918Z",
          "iopub.status.busy": "2020-08-12T14:26:09.554094Z",
          "iopub.status.idle": "2020-08-12T14:26:09.581554Z",
          "shell.execute_reply": "2020-08-12T14:26:09.582469Z"
        },
        "papermill": {
          "duration": 0.156528,
          "end_time": "2020-08-12T14:26:09.582738",
          "exception": false,
          "start_time": "2020-08-12T14:26:09.426210",
          "status": "completed"
        },
        "tags": [],
        "colab": {
          "base_uri": "https://localhost:8080/"
        },
        "id": "KomewVAgD0FT",
        "outputId": "644b36a5-77c9-4a9d-83c2-feeddc6df62b"
      },
      "source": [
        "#getting info of dataframes\n",
        "df.info()"
      ],
      "execution_count": 4,
      "outputs": [
        {
          "output_type": "stream",
          "text": [
            "<class 'pandas.core.frame.DataFrame'>\n",
            "RangeIndex: 179108 entries, 0 to 179107\n",
            "Data columns (total 13 columns):\n",
            " #   Column            Non-Null Count   Dtype \n",
            "---  ------            --------------   ----- \n",
            " 0   user_name         179108 non-null  object\n",
            " 1   user_location     142337 non-null  object\n",
            " 2   user_description  168822 non-null  object\n",
            " 3   user_created      179108 non-null  object\n",
            " 4   user_followers    179108 non-null  int64 \n",
            " 5   user_friends      179108 non-null  int64 \n",
            " 6   user_favourites   179108 non-null  int64 \n",
            " 7   user_verified     179108 non-null  bool  \n",
            " 8   date              179108 non-null  object\n",
            " 9   text              179108 non-null  object\n",
            " 10  hashtags          127774 non-null  object\n",
            " 11  source            179031 non-null  object\n",
            " 12  is_retweet        179108 non-null  bool  \n",
            "dtypes: bool(2), int64(3), object(8)\n",
            "memory usage: 15.4+ MB\n"
          ],
          "name": "stdout"
        }
      ]
    },
    {
      "cell_type": "code",
      "metadata": {
        "execution": {
          "iopub.execute_input": "2020-08-12T14:26:09.624105Z",
          "iopub.status.busy": "2020-08-12T14:26:09.622835Z",
          "iopub.status.idle": "2020-08-12T14:26:09.662267Z",
          "shell.execute_reply": "2020-08-12T14:26:09.661513Z"
        },
        "papermill": {
          "duration": 0.06434,
          "end_time": "2020-08-12T14:26:09.662412",
          "exception": false,
          "start_time": "2020-08-12T14:26:09.598072",
          "status": "completed"
        },
        "tags": [],
        "colab": {
          "base_uri": "https://localhost:8080/",
          "height": 282
        },
        "id": "hiX0kEmvD0FU",
        "outputId": "25a41e6d-42d5-4117-f23b-e7e6a4e17b05"
      },
      "source": [
        "#describing our dataframes\n",
        "df.describe()"
      ],
      "execution_count": 5,
      "outputs": [
        {
          "output_type": "execute_result",
          "data": {
            "text/html": [
              "<div>\n",
              "<style scoped>\n",
              "    .dataframe tbody tr th:only-of-type {\n",
              "        vertical-align: middle;\n",
              "    }\n",
              "\n",
              "    .dataframe tbody tr th {\n",
              "        vertical-align: top;\n",
              "    }\n",
              "\n",
              "    .dataframe thead th {\n",
              "        text-align: right;\n",
              "    }\n",
              "</style>\n",
              "<table border=\"1\" class=\"dataframe\">\n",
              "  <thead>\n",
              "    <tr style=\"text-align: right;\">\n",
              "      <th></th>\n",
              "      <th>user_followers</th>\n",
              "      <th>user_friends</th>\n",
              "      <th>user_favourites</th>\n",
              "    </tr>\n",
              "  </thead>\n",
              "  <tbody>\n",
              "    <tr>\n",
              "      <th>count</th>\n",
              "      <td>1.791080e+05</td>\n",
              "      <td>179108.000000</td>\n",
              "      <td>1.791080e+05</td>\n",
              "    </tr>\n",
              "    <tr>\n",
              "      <th>mean</th>\n",
              "      <td>1.090555e+05</td>\n",
              "      <td>2121.701566</td>\n",
              "      <td>1.444411e+04</td>\n",
              "    </tr>\n",
              "    <tr>\n",
              "      <th>std</th>\n",
              "      <td>8.414670e+05</td>\n",
              "      <td>9162.553072</td>\n",
              "      <td>4.452270e+04</td>\n",
              "    </tr>\n",
              "    <tr>\n",
              "      <th>min</th>\n",
              "      <td>0.000000e+00</td>\n",
              "      <td>0.000000</td>\n",
              "      <td>0.000000e+00</td>\n",
              "    </tr>\n",
              "    <tr>\n",
              "      <th>25%</th>\n",
              "      <td>1.720000e+02</td>\n",
              "      <td>148.000000</td>\n",
              "      <td>2.060000e+02</td>\n",
              "    </tr>\n",
              "    <tr>\n",
              "      <th>50%</th>\n",
              "      <td>9.920000e+02</td>\n",
              "      <td>542.000000</td>\n",
              "      <td>1.791000e+03</td>\n",
              "    </tr>\n",
              "    <tr>\n",
              "      <th>75%</th>\n",
              "      <td>5.284000e+03</td>\n",
              "      <td>1725.250000</td>\n",
              "      <td>9.388000e+03</td>\n",
              "    </tr>\n",
              "    <tr>\n",
              "      <th>max</th>\n",
              "      <td>4.944256e+07</td>\n",
              "      <td>497363.000000</td>\n",
              "      <td>2.047197e+06</td>\n",
              "    </tr>\n",
              "  </tbody>\n",
              "</table>\n",
              "</div>"
            ],
            "text/plain": [
              "       user_followers   user_friends  user_favourites\n",
              "count    1.791080e+05  179108.000000     1.791080e+05\n",
              "mean     1.090555e+05    2121.701566     1.444411e+04\n",
              "std      8.414670e+05    9162.553072     4.452270e+04\n",
              "min      0.000000e+00       0.000000     0.000000e+00\n",
              "25%      1.720000e+02     148.000000     2.060000e+02\n",
              "50%      9.920000e+02     542.000000     1.791000e+03\n",
              "75%      5.284000e+03    1725.250000     9.388000e+03\n",
              "max      4.944256e+07  497363.000000     2.047197e+06"
            ]
          },
          "metadata": {
            "tags": []
          },
          "execution_count": 5
        }
      ]
    },
    {
      "cell_type": "code",
      "metadata": {
        "execution": {
          "iopub.execute_input": "2020-08-12T14:26:09.807109Z",
          "iopub.status.busy": "2020-08-12T14:26:09.805930Z",
          "iopub.status.idle": "2020-08-12T14:26:09.817849Z",
          "shell.execute_reply": "2020-08-12T14:26:09.817134Z"
        },
        "papermill": {
          "duration": 0.141957,
          "end_time": "2020-08-12T14:26:09.817989",
          "exception": false,
          "start_time": "2020-08-12T14:26:09.676032",
          "status": "completed"
        },
        "tags": [],
        "colab": {
          "base_uri": "https://localhost:8080/"
        },
        "id": "5BixyfgiD0FU",
        "outputId": "98651a9d-7188-42fc-8852-811fac78cca0"
      },
      "source": [
        "#counting the total enteries against each column\n",
        "df.isnull().count()"
      ],
      "execution_count": 6,
      "outputs": [
        {
          "output_type": "execute_result",
          "data": {
            "text/plain": [
              "user_name           179108\n",
              "user_location       179108\n",
              "user_description    179108\n",
              "user_created        179108\n",
              "user_followers      179108\n",
              "user_friends        179108\n",
              "user_favourites     179108\n",
              "user_verified       179108\n",
              "date                179108\n",
              "text                179108\n",
              "hashtags            179108\n",
              "source              179108\n",
              "is_retweet          179108\n",
              "dtype: int64"
            ]
          },
          "metadata": {
            "tags": []
          },
          "execution_count": 6
        }
      ]
    },
    {
      "cell_type": "code",
      "metadata": {
        "_kg_hide-input": false,
        "_kg_hide-output": true,
        "execution": {
          "iopub.execute_input": "2020-08-12T14:26:09.966471Z",
          "iopub.status.busy": "2020-08-12T14:26:09.965606Z",
          "iopub.status.idle": "2020-08-12T14:26:10.027214Z",
          "shell.execute_reply": "2020-08-12T14:26:10.026440Z"
        },
        "papermill": {
          "duration": 0.192927,
          "end_time": "2020-08-12T14:26:10.027385",
          "exception": false,
          "start_time": "2020-08-12T14:26:09.834458",
          "status": "completed"
        },
        "tags": [],
        "id": "HGhBM3-hD0FV"
      },
      "source": [
        "#dropping na enteries\n",
        "df = df.dropna()"
      ],
      "execution_count": 7,
      "outputs": []
    },
    {
      "cell_type": "code",
      "metadata": {
        "execution": {
          "iopub.execute_input": "2020-08-12T14:26:10.089433Z",
          "iopub.status.busy": "2020-08-12T14:26:10.088600Z",
          "iopub.status.idle": "2020-08-12T14:26:10.101530Z",
          "shell.execute_reply": "2020-08-12T14:26:10.100783Z"
        },
        "papermill": {
          "duration": 0.059283,
          "end_time": "2020-08-12T14:26:10.101679",
          "exception": false,
          "start_time": "2020-08-12T14:26:10.042396",
          "status": "completed"
        },
        "tags": [],
        "colab": {
          "base_uri": "https://localhost:8080/"
        },
        "id": "xwwRaprzD0FV",
        "outputId": "cbb2b4d9-a02b-46b8-ff8d-23595d2067ac"
      },
      "source": [
        "#get a unique month\n",
        "pd.DatetimeIndex(df['date']).month.unique()"
      ],
      "execution_count": 8,
      "outputs": [
        {
          "output_type": "execute_result",
          "data": {
            "text/plain": [
              "Int64Index([7, 8], dtype='int64', name='date')"
            ]
          },
          "metadata": {
            "tags": []
          },
          "execution_count": 8
        }
      ]
    },
    {
      "cell_type": "code",
      "metadata": {
        "execution": {
          "iopub.execute_input": "2020-08-12T14:26:10.163721Z",
          "iopub.status.busy": "2020-08-12T14:26:10.162813Z",
          "iopub.status.idle": "2020-08-12T14:26:10.275927Z",
          "shell.execute_reply": "2020-08-12T14:26:10.275229Z"
        },
        "papermill": {
          "duration": 0.159319,
          "end_time": "2020-08-12T14:26:10.276089",
          "exception": false,
          "start_time": "2020-08-12T14:26:10.116770",
          "status": "completed"
        },
        "tags": [],
        "id": "8vSfuuYPD0FW"
      },
      "source": [
        "#creating method to read the location values count for 7th and 8th month\n",
        "top_july = df['user_location'][pd.DatetimeIndex(df['date']).month == 7].value_counts()\n",
        "top_august = df['user_location'][pd.DatetimeIndex(df['date']).month == 8].value_counts()\n",
        "top_all_the_time = (top_august + top_july).sort_values(ascending = False)"
      ],
      "execution_count": 9,
      "outputs": []
    },
    {
      "cell_type": "code",
      "metadata": {
        "execution": {
          "iopub.execute_input": "2020-08-12T14:26:10.314692Z",
          "iopub.status.busy": "2020-08-12T14:26:10.313777Z",
          "iopub.status.idle": "2020-08-12T14:26:10.705680Z",
          "shell.execute_reply": "2020-08-12T14:26:10.705030Z"
        },
        "papermill": {
          "duration": 0.4144,
          "end_time": "2020-08-12T14:26:10.705809",
          "exception": false,
          "start_time": "2020-08-12T14:26:10.291409",
          "status": "completed"
        },
        "tags": [],
        "colab": {
          "base_uri": "https://localhost:8080/",
          "height": 444
        },
        "id": "RoinKNUtD0FW",
        "outputId": "76544958-6231-4408-f857-b35a5b795aa4"
      },
      "source": [
        "#plotting july tweets\n",
        "fig, ax = plt.subplots(figsize = (13,5))\n",
        "plt.xlabel(\"Location\", fontsize = 12)\n",
        "plt.ylabel(\"NO. Tweets\", fontsize = 12)\n",
        "top_july[0:15].plot(kind='bar', title = \"Top 15 Countries Posting about Covid-19 in July\", )"
      ],
      "execution_count": 10,
      "outputs": [
        {
          "output_type": "execute_result",
          "data": {
            "text/plain": [
              "<matplotlib.axes._subplots.AxesSubplot at 0x7fa51f22e0d0>"
            ]
          },
          "metadata": {
            "tags": []
          },
          "execution_count": 10
        },
        {
          "output_type": "display_data",
          "data": {
            "image/png": "[encoded data removed]",
            "text/plain": [
              "<Figure size 936x360 with 1 Axes>"
            ]
          },
          "metadata": {
            "tags": [],
            "needs_background": "light"
          }
        }
      ]
    },
    {
      "cell_type": "code",
      "metadata": {
        "execution": {
          "iopub.execute_input": "2020-08-12T14:26:10.755085Z",
          "iopub.status.busy": "2020-08-12T14:26:10.754233Z",
          "iopub.status.idle": "2020-08-12T14:26:10.994268Z",
          "shell.execute_reply": "2020-08-12T14:26:10.993441Z"
        },
        "papermill": {
          "duration": 0.271644,
          "end_time": "2020-08-12T14:26:10.994470",
          "exception": false,
          "start_time": "2020-08-12T14:26:10.722826",
          "status": "completed"
        },
        "tags": [],
        "colab": {
          "base_uri": "https://localhost:8080/",
          "height": 444
        },
        "id": "hLfwDJPTD0FX",
        "outputId": "3ef553bb-7c94-47c3-c431-5d2a6a630f7b"
      },
      "source": [
        "#plotting August tweets\n",
        "fig, ax = plt.subplots(figsize = (13,5))\n",
        "plt.xlabel(\"Location\", fontsize = 12)\n",
        "plt.ylabel(\"NO. Tweets\", fontsize = 12)\n",
        "top_august[0:15].plot(kind='bar', title = \"Top 15 Countries Posting about Covid-19 in August\", )"
      ],
      "execution_count": 11,
      "outputs": [
        {
          "output_type": "execute_result",
          "data": {
            "text/plain": [
              "<matplotlib.axes._subplots.AxesSubplot at 0x7fa525307910>"
            ]
          },
          "metadata": {
            "tags": []
          },
          "execution_count": 11
        },
        {
          "output_type": "display_data",
          "data": {
            "image/png": "[encoded data removed]",
            "text/plain": [
              "<Figure size 936x360 with 1 Axes>"
            ]
          },
          "metadata": {
            "tags": [],
            "needs_background": "light"
          }
        }
      ]
    },
    {
      "cell_type": "code",
      "metadata": {
        "execution": {
          "iopub.execute_input": "2020-08-12T14:26:11.051400Z",
          "iopub.status.busy": "2020-08-12T14:26:11.050435Z",
          "iopub.status.idle": "2020-08-12T14:26:11.305675Z",
          "shell.execute_reply": "2020-08-12T14:26:11.304983Z"
        },
        "papermill": {
          "duration": 0.289078,
          "end_time": "2020-08-12T14:26:11.305811",
          "exception": false,
          "start_time": "2020-08-12T14:26:11.016733",
          "status": "completed"
        },
        "tags": [],
        "colab": {
          "base_uri": "https://localhost:8080/",
          "height": 444
        },
        "id": "Vl6jbw7rD0FY",
        "outputId": "452063ee-0471-481b-826a-792df481cce4"
      },
      "source": [
        "#plotting tweets of both months combined\n",
        "fig, ax = plt.subplots(figsize = (13,5))\n",
        "plt.xlabel(\"Location\", fontsize = 12)\n",
        "plt.ylabel(\"NO. Tweets\", fontsize = 12)\n",
        "top_all_the_time[0:15].plot(kind='bar', title = \"Top 15 Countries Posting about Covid-19 All The Time\", )"
      ],
      "execution_count": 12,
      "outputs": [
        {
          "output_type": "execute_result",
          "data": {
            "text/plain": [
              "<matplotlib.axes._subplots.AxesSubplot at 0x7fa52312b590>"
            ]
          },
          "metadata": {
            "tags": []
          },
          "execution_count": 12
        },
        {
          "output_type": "display_data",
          "data": {
            "image/png": "[encoded data removed]",
            "text/plain": [
              "<Figure size 936x360 with 1 Axes>"
            ]
          },
          "metadata": {
            "tags": [],
            "needs_background": "light"
          }
        }
      ]
    },
    {
      "cell_type": "code",
      "metadata": {
        "papermill": {
          "duration": 0.020143,
          "end_time": "2020-08-12T14:26:11.346488",
          "exception": false,
          "start_time": "2020-08-12T14:26:11.326345",
          "status": "completed"
        },
        "tags": [],
        "id": "DNN4vZTqD0FY"
      },
      "source": [
        ""
      ],
      "execution_count": null,
      "outputs": []
    }
  ]
}