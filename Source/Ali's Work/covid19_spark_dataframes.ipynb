{
  "nbformat": 4,
  "nbformat_minor": 0,
  "metadata": {
    "colab": {
      "name": "covid19_spark_dataframes.ipynb",
      "provenance": []
    },
    "kernelspec": {
      "name": "python3",
      "display_name": "Python 3"
    },
    "language_info": {
      "name": "python"
    }
  },
  "cells": [
    {
      "cell_type": "code",
      "metadata": {
        "colab": {
          "base_uri": "https://localhost:8080/"
        },
        "id": "BKYviMNAJhbl",
        "outputId": "90640483-6d04-4404-debd-437740dcc3ba"
      },
      "source": [
        "#connecting to Google Drive\n",
        "from google.colab import drive\n",
        "drive.mount('/content/drive')"
      ],
      "execution_count": 1,
      "outputs": [
        {
          "output_type": "stream",
          "text": [
            "Mounted at /content/drive\n"
          ],
          "name": "stdout"
        }
      ]
    },
    {
      "cell_type": "code",
      "metadata": {
        "id": "Pv3NCZxHKcsx"
      },
      "source": [
        "#installing opendjdk-8 for JAVA\n",
        "!apt-get install openjdk-8-jdk-headless -qq > /dev/null"
      ],
      "execution_count": 2,
      "outputs": []
    },
    {
      "cell_type": "code",
      "metadata": {
        "id": "SvgFLnWcKkOU"
      },
      "source": [
        "#downloading apache spark\n",
        "!wget -q https://downloads.apache.org/spark/spark-3.1.1/spark-3.1.1-bin-hadoop2.7.tgz"
      ],
      "execution_count": 3,
      "outputs": []
    },
    {
      "cell_type": "code",
      "metadata": {
        "id": "4zfbpURuKmE0"
      },
      "source": [
        "#extracting apache spark\n",
        "!tar xf spark-3.1.1-bin-hadoop2.7.tgz"
      ],
      "execution_count": 4,
      "outputs": []
    },
    {
      "cell_type": "code",
      "metadata": {
        "id": "T7FmOgWPK5-z"
      },
      "source": [
        "#intalling apache spark\n",
        "!pip install -q findspark"
      ],
      "execution_count": 5,
      "outputs": []
    },
    {
      "cell_type": "code",
      "metadata": {
        "id": "MUj1KLV7MAts"
      },
      "source": [
        "#setting JAVA_HOME and SPARK_HOME variables\n",
        "import os\n",
        "os.environ[\"JAVA_HOME\"] = \"/usr/lib/jvm/java-8-openjdk-amd64\"\n",
        "os.environ[\"SPARK_HOME\"] = \"/content/spark-3.1.1-bin-hadoop2.7\""
      ],
      "execution_count": 7,
      "outputs": []
    },
    {
      "cell_type": "code",
      "metadata": {
        "id": "pA8iuslNMO7d"
      },
      "source": [
        "#importing findspark library\n",
        "import findspark\n",
        "findspark.init()"
      ],
      "execution_count": 8,
      "outputs": []
    },
    {
      "cell_type": "code",
      "metadata": {
        "colab": {
          "base_uri": "https://localhost:8080/",
          "height": 36
        },
        "id": "h0khIAQbMUTC",
        "outputId": "98e40560-af4f-48c4-edaa-ee27859d62a4"
      },
      "source": [
        "#finding the spark library path\n",
        "findspark.find()"
      ],
      "execution_count": 9,
      "outputs": [
        {
          "output_type": "execute_result",
          "data": {
            "application/vnd.google.colaboratory.intrinsic+json": {
              "type": "string"
            },
            "text/plain": [
              "'/content/spark-3.1.1-bin-hadoop2.7'"
            ]
          },
          "metadata": {
            "tags": []
          },
          "execution_count": 9
        }
      ]
    },
    {
      "cell_type": "code",
      "metadata": {
        "id": "TwX7E5qLMXuB"
      },
      "source": [
        "#creating our first sparksession\n",
        "from pyspark.sql import SparkSession\n",
        "\n",
        "spark = SparkSession.builder\\\n",
        "        .master(\"local\")\\\n",
        "        .appName(\"Colab\")\\\n",
        "        .config('spark.ui.port', '4050')\\\n",
        "        .getOrCreate()"
      ],
      "execution_count": 10,
      "outputs": []
    },
    {
      "cell_type": "code",
      "metadata": {
        "colab": {
          "base_uri": "https://localhost:8080/",
          "height": 218
        },
        "id": "IwzkeQ2xMdOn",
        "outputId": "c137db08-84f4-4844-ee86-f58fe0def540"
      },
      "source": [
        "spark"
      ],
      "execution_count": 11,
      "outputs": [
        {
          "output_type": "execute_result",
          "data": {
            "text/html": [
              "\n",
              "            <div>\n",
              "                <p><b>SparkSession - in-memory</b></p>\n",
              "                \n",
              "        <div>\n",
              "            <p><b>SparkContext</b></p>\n",
              "\n",
              "            <p><a href=\"http://2ef2f83ce1e1:4050\">Spark UI</a></p>\n",
              "\n",
              "            <dl>\n",
              "              <dt>Version</dt>\n",
              "                <dd><code>v3.1.1</code></dd>\n",
              "              <dt>Master</dt>\n",
              "                <dd><code>local</code></dd>\n",
              "              <dt>AppName</dt>\n",
              "                <dd><code>Colab</code></dd>\n",
              "            </dl>\n",
              "        </div>\n",
              "        \n",
              "            </div>\n",
              "        "
            ],
            "text/plain": [
              "<pyspark.sql.session.SparkSession at 0x7fd10534cd10>"
            ]
          },
          "metadata": {
            "tags": []
          },
          "execution_count": 11
        }
      ]
    },
    {
      "cell_type": "code",
      "metadata": {
        "colab": {
          "base_uri": "https://localhost:8080/"
        },
        "id": "Yb__UhrcMkHs",
        "outputId": "feefbf2b-c72a-4a13-b0dc-7450c456b7fa"
      },
      "source": [
        "#code to get the Spark UI\n",
        "!wget https://bin.equinox.io/c/4VmDzA7iaHb/ngrok-stable-linux-amd64.zip\n",
        "!unzip ngrok-stable-linux-amd64.zip\n",
        "get_ipython().system_raw('./ngrok http 4050 &')\n",
        "!curl -s http://localhost:4040/api/tunnels"
      ],
      "execution_count": 13,
      "outputs": [
        {
          "output_type": "stream",
          "text": [
            "--2021-05-09 15:56:12--  https://bin.equinox.io/c/4VmDzA7iaHb/ngrok-stable-linux-amd64.zip\n",
            "Resolving bin.equinox.io (bin.equinox.io)... 3.229.173.44, 52.202.162.45, 3.216.229.131, ...\n",
            "Connecting to bin.equinox.io (bin.equinox.io)|3.229.173.44|:443... connected.\n",
            "HTTP request sent, awaiting response... 200 OK\n",
            "Length: 13832437 (13M) [application/octet-stream]\n",
            "Saving to: ‘ngrok-stable-linux-amd64.zip.1’\n",
            "\n",
            "ngrok-stable-linux- 100%[===================>]  13.19M  29.9MB/s    in 0.4s    \n",
            "\n",
            "2021-05-09 15:56:12 (29.9 MB/s) - ‘ngrok-stable-linux-amd64.zip.1’ saved [13832437/13832437]\n",
            "\n",
            "Archive:  ngrok-stable-linux-amd64.zip\n",
            "replace ngrok? [y]es, [n]o, [A]ll, [N]one, [r]ename: y\n",
            "  inflating: ngrok                   \n",
            "{\"tunnels\":[{\"name\":\"command_line (http)\",\"uri\":\"/api/tunnels/command_line%20%28http%29\",\"public_url\":\"http://4976f4f65aa8.ngrok.io\",\"proto\":\"http\",\"config\":{\"addr\":\"http://localhost:4050\",\"inspect\":true},\"metrics\":{\"conns\":{\"count\":0,\"gauge\":0,\"rate1\":0,\"rate5\":0,\"rate15\":0,\"p50\":0,\"p90\":0,\"p95\":0,\"p99\":0},\"http\":{\"count\":0,\"rate1\":0,\"rate5\":0,\"rate15\":0,\"p50\":0,\"p90\":0,\"p95\":0,\"p99\":0}}},{\"name\":\"command_line\",\"uri\":\"/api/tunnels/command_line\",\"public_url\":\"https://4976f4f65aa8.ngrok.io\",\"proto\":\"https\",\"config\":{\"addr\":\"http://localhost:4050\",\"inspect\":true},\"metrics\":{\"conns\":{\"count\":0,\"gauge\":0,\"rate1\":0,\"rate5\":0,\"rate15\":0,\"p50\":0,\"p90\":0,\"p95\":0,\"p99\":0},\"http\":{\"count\":0,\"rate1\":0,\"rate5\":0,\"rate15\":0,\"p50\":0,\"p90\":0,\"p95\":0,\"p99\":0}}}],\"uri\":\"/api/tunnels\"}\n"
          ],
          "name": "stdout"
        }
      ]
    },
    {
      "cell_type": "code",
      "metadata": {
        "id": "6UQybKNiNDt2"
      },
      "source": [
        "#read dataset to dataframe\n",
        "df = spark.read.csv(\"/content/drive/MyDrive/covid19/covid19_tweets.csv\", header=True, inferSchema=True)"
      ],
      "execution_count": 14,
      "outputs": []
    },
    {
      "cell_type": "code",
      "metadata": {
        "colab": {
          "base_uri": "https://localhost:8080/"
        },
        "id": "cWUFkzmSNEhz",
        "outputId": "11873998-b108-44bc-a972-d54235262627"
      },
      "source": [
        "#Show column details\n",
        "df.printSchema()"
      ],
      "execution_count": 16,
      "outputs": [
        {
          "output_type": "stream",
          "text": [
            "root\n",
            " |-- user_name: string (nullable = true)\n",
            " |-- user_location: string (nullable = true)\n",
            " |-- user_description: string (nullable = true)\n",
            " |-- user_created: string (nullable = true)\n",
            " |-- user_followers: string (nullable = true)\n",
            " |-- user_friends: string (nullable = true)\n",
            " |-- user_favourites: string (nullable = true)\n",
            " |-- user_verified: string (nullable = true)\n",
            " |-- date: string (nullable = true)\n",
            " |-- text: string (nullable = true)\n",
            " |-- hashtags: string (nullable = true)\n",
            " |-- source: string (nullable = true)\n",
            " |-- is_retweet: string (nullable = true)\n",
            "\n"
          ],
          "name": "stdout"
        }
      ]
    },
    {
      "cell_type": "code",
      "metadata": {
        "colab": {
          "base_uri": "https://localhost:8080/"
        },
        "id": "NpyFM6o2NOCw",
        "outputId": "82dcd1fa-7d60-4866-f059-4b26f4b7332b"
      },
      "source": [
        "#Just like in Pandas Dataframe we have the df.head() function, here we have the show() function.\n",
        "df.show(5)"
      ],
      "execution_count": 17,
      "outputs": [
        {
          "output_type": "stream",
          "text": [
            "+---------------+--------------------+--------------------+-------------------+--------------+------------+---------------+-------------+-------------------+--------------------+-----------+-------------------+----------+\n",
            "|      user_name|       user_location|    user_description|       user_created|user_followers|user_friends|user_favourites|user_verified|               date|                text|   hashtags|             source|is_retweet|\n",
            "+---------------+--------------------+--------------------+-------------------+--------------+------------+---------------+-------------+-------------------+--------------------+-----------+-------------------+----------+\n",
            "|        ᏉᎥ☻լꂅϮ|          astroworld|wednesday addams ...|2017-05-26 05:46:42|           624|         950|          18775|        False|2020-07-25 12:27:21|If I smelled the ...|       null| Twitter for iPhone|     False|\n",
            "|Tom Basile 🇺🇸|        New York, NY|Husband, Father, ...|2009-04-16 20:06:23|          2253|        1677|             24|         True|2020-07-25 12:27:17|Hey @Yankees @Yan...|       null|Twitter for Android|     False|\n",
            "|Time4fisticuffs|    Pewee Valley, KY|#Christian #Catho...|2009-02-28 18:57:41|          9275|        9525|           7254|        False|2020-07-25 12:27:14|@diane3443 @wdunl...|['COVID19']|Twitter for Android|     False|\n",
            "|    ethel mertz|Stuck in the Middle |#Browns #Indians ...|2019-03-07 01:45:06|           197|         987|           1488|        False|2020-07-25 12:27:10|@brookbanktv The ...|['COVID19']| Twitter for iPhone|     False|\n",
            "|       DIPR-J&K|   Jammu and Kashmir|🖊️Official Twitt...|2017-02-12 06:45:15|        101009|         168|            101|        False|2020-07-25 12:27:08|25 July : Media B...|       null|               null|      null|\n",
            "+---------------+--------------------+--------------------+-------------------+--------------+------------+---------------+-------------+-------------------+--------------------+-----------+-------------------+----------+\n",
            "only showing top 5 rows\n",
            "\n"
          ],
          "name": "stdout"
        }
      ]
    },
    {
      "cell_type": "code",
      "metadata": {
        "colab": {
          "base_uri": "https://localhost:8080/"
        },
        "id": "JPR4wca8Nq7I",
        "outputId": "668c720f-fbac-40ed-a893-5020342861f8"
      },
      "source": [
        "#number of rows in the dataframe, which we would, just use the count() function.\n",
        "df.count()"
      ],
      "execution_count": 18,
      "outputs": [
        {
          "output_type": "execute_result",
          "data": {
            "text/plain": [
              "323158"
            ]
          },
          "metadata": {
            "tags": []
          },
          "execution_count": 18
        }
      ]
    },
    {
      "cell_type": "code",
      "metadata": {
        "colab": {
          "base_uri": "https://localhost:8080/"
        },
        "id": "Ryw_7mSrNuAu",
        "outputId": "e12e0735-90d8-43b3-ce27-136d85620274"
      },
      "source": [
        "#Using the select() function we can mention any columns we want to view.\n",
        "df.select(\"user_name\",\"user_location\",\"user_followers\",\"user_favourites\").show(5)"
      ],
      "execution_count": 19,
      "outputs": [
        {
          "output_type": "stream",
          "text": [
            "+---------------+--------------------+--------------+---------------+\n",
            "|      user_name|       user_location|user_followers|user_favourites|\n",
            "+---------------+--------------------+--------------+---------------+\n",
            "|        ᏉᎥ☻լꂅϮ|          astroworld|           624|          18775|\n",
            "|Tom Basile 🇺🇸|        New York, NY|          2253|             24|\n",
            "|Time4fisticuffs|    Pewee Valley, KY|          9275|           7254|\n",
            "|    ethel mertz|Stuck in the Middle |           197|           1488|\n",
            "|       DIPR-J&K|   Jammu and Kashmir|        101009|            101|\n",
            "+---------------+--------------------+--------------+---------------+\n",
            "only showing top 5 rows\n",
            "\n"
          ],
          "name": "stdout"
        }
      ]
    },
    {
      "cell_type": "code",
      "metadata": {
        "colab": {
          "base_uri": "https://localhost:8080/"
        },
        "id": "KBG9bmcfNucK",
        "outputId": "faf78930-5333-4682-f7d5-4fd1e3af4e55"
      },
      "source": [
        "#have a look at the statistics regarding the dataframe. The describe() function is best suited for such purposes.\n",
        "df.describe().show()"
      ],
      "execution_count": 20,
      "outputs": [
        {
          "output_type": "stream",
          "text": [
            "+-------+--------------------+-------------------+--------------------+--------------------+-----------------+--------------------+--------------------+--------------------+--------------------+------------------+--------------------+------------------+--------------------+\n",
            "|summary|           user_name|      user_location|    user_description|        user_created|   user_followers|        user_friends|     user_favourites|       user_verified|                date|              text|            hashtags|            source|          is_retweet|\n",
            "+-------+--------------------+-------------------+--------------------+--------------------+-----------------+--------------------+--------------------+--------------------+--------------------+------------------+--------------------+------------------+--------------------+\n",
            "|  count|              323145|             223456|              252729|              235222|           185656|              180727|              179496|              179214|              163911|            166543|               90378|            110844|              109928|\n",
            "|   mean| 9.512645922259457E9|3.501254379280664E7| 9.751959375058082E7|  13926.520461454516|97222.29477488212|   2351.321615330552|  13882.291350451891|  10861.664129400571|  10618.719844357976| 8026.285185185186|  13162.873015873016|          3615.775|   4644.590909090909|\n",
            "| stddev|1.390882557242068...| 5.49802029187421E8|1.501099233009359E10|  265865.19227823557| 783647.697905641|  10501.612197698943|   43798.60588241077|   36105.08176476571|    31658.6264985882|14037.591678427712|  32587.930019560095|6903.2502322159635|    8876.39867266584|\n",
            "|    min|                    |                   |                    |                    |       #NoMAGAts\"|  stupidity  & re...|                    |           #Movie 🎥|                    |        #Australia|                    |                  |  at @ElieNYC ham...|\n",
            "|    max| 🫂Protecting People|                 🪐|🩺BSN, RN. 🎓UC A...|🌊🌊🌊 Blue wave ...|               🏃|                🐱!\"|… https://t.co/vh...|🩸Current Status ...|🤲  We are mainta...|          🩺🏥⚕️🦷|🏡💻 Are you #wor...|  🇺🇸 FLASHBACK: |💧With enough wat...|\n",
            "+-------+--------------------+-------------------+--------------------+--------------------+-----------------+--------------------+--------------------+--------------------+--------------------+------------------+--------------------+------------------+--------------------+\n",
            "\n"
          ],
          "name": "stdout"
        }
      ]
    },
    {
      "cell_type": "code",
      "metadata": {
        "colab": {
          "base_uri": "https://localhost:8080/"
        },
        "id": "cWuaNorLNy-Q",
        "outputId": "e601153d-c997-4ece-a1b8-1d8e78dab6f2"
      },
      "source": [
        "#The distinct() will come in handy when we want to determine the unique values in the categorical \n",
        "#columns in the dataframe.\n",
        "df.select(\"user_location\").distinct().show()"
      ],
      "execution_count": 21,
      "outputs": [
        {
          "output_type": "stream",
          "text": [
            "+--------------------+\n",
            "|       user_location|\n",
            "+--------------------+\n",
            "|     Gainesville, FL|\n",
            "| 2011-06-12 18:18:43|\n",
            "| 2020-03-30 02:14:49|\n",
            "|      ['dorathians']|\n",
            "|            Zirakpur|\n",
            "|𝓘 𝓪𝓲𝓷𝓽 𝓰𝓸?...|\n",
            "|             Ahch-To|\n",
            "| Mumbai, Maharashtra|\n",
            "|Perth, Western Au...|\n",
            "|           Bangalore|\n",
            "|ÜT: -26.532499,28...|\n",
            "| 2015-02-01 18:00:41|\n",
            "| 2020-05-04 09:37:29|\n",
            "| 2011-07-25 19:44:07|\n",
            "|    ['alreadyvideo']|\n",
            "|['mask', 'bighead...|\n",
            "|['WithYouEverySte...|\n",
            "|            Talagang|\n",
            "|Marburg-Biedenkop...|\n",
            "| 2020-01-28 13:04:13|\n",
            "+--------------------+\n",
            "only showing top 20 rows\n",
            "\n"
          ],
          "name": "stdout"
        }
      ]
    },
    {
      "cell_type": "code",
      "metadata": {
        "colab": {
          "base_uri": "https://localhost:8080/"
        },
        "id": "CUlsh147OAQ0",
        "outputId": "f234616c-0678-4bd0-b30a-7aacea056536"
      },
      "source": [
        "#Counting and Removing Null values\n",
        "from pyspark.sql import functions as F\n",
        "df.select([F.count(F.when(F.isnull(c), c)).alias(c) for c in df.columns]).show()\n"
      ],
      "execution_count": 22,
      "outputs": [
        {
          "output_type": "stream",
          "text": [
            "+---------+-------------+----------------+------------+--------------+------------+---------------+-------------+------+------+--------+------+----------+\n",
            "|user_name|user_location|user_description|user_created|user_followers|user_friends|user_favourites|user_verified|  date|  text|hashtags|source|is_retweet|\n",
            "+---------+-------------+----------------+------------+--------------+------------+---------------+-------------+------+------+--------+------+----------+\n",
            "|       13|        99702|           70429|       87936|        137502|      142431|         143662|       143944|159247|156615|  232780|212314|    213230|\n",
            "+---------+-------------+----------------+------------+--------------+------------+---------------+-------------+------+------+--------+------+----------+\n",
            "\n"
          ],
          "name": "stdout"
        }
      ]
    }
  ]
}